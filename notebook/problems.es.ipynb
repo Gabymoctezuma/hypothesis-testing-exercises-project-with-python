{
 "cells": [
  {
   "cell_type": "markdown",
   "id": "d9d036c6",
   "metadata": {},
   "source": [
    "# Problemas de prueba de hipótesis"
   ]
  },
  {
   "cell_type": "markdown",
   "id": "d157c4db",
   "metadata": {},
   "source": [
    "## Ejercicio 1\n",
    "\n",
    "Usted es un nutricionista que investiga dos tipos diferentes de dietas para ver si existe una diferencia significativa en la pérdida de peso después de un mes. Eliges dos grupos aleatorios de personas; un grupo sigue la primera dieta y el otro sigue la segunda. Al final del mes, se registra la pérdida de peso (en kg) de cada persona:\n",
    "\n",
    "| Diet 1 | Diet 2 |\n",
    "|:-------|:-------|\n",
    "| 2.0 | 3.0 |\n",
    "| 2.5 | 3.2 |\n",
    "| 3.0 | 3.1 |\n",
    "| 2.8 | 2.9 |\n",
    "| 2.3 | 2.8 |\n",
    "| 2.7 | 3.0 |\n",
    "| 2.5 | 3.2 |\n",
    "\n",
    "Con estos datos se busca responder a la siguiente pregunta: ¿Existe una diferencia significativa en la pérdida de peso promedio entre las personas que siguieron la primera dieta y las que siguieron la segunda dieta?\n",
    "\n",
    "Para sacar conclusiones, siga los siguientes puntos:\n",
    "\n",
    "-Enunciar la hipótesis: hipótesis nula y alternativa.\n",
    "-Realizar la prueba para comprobar la hipótesis. Puede utilizar la prueba t de Student.\n",
    "-Analizar las conclusiones."
   ]
  },
  {
   "cell_type": "markdown",
   "id": "7051be27",
   "metadata": {},
   "source": [
    "HIPOTESIS NULA\n",
    "Los datos sugieren que la segunda dieta tiene valores igual o mayor que la primera dieta\n",
    "\n",
    "HIPÓTESIS ALTERNATIVA\n",
    "Los datos sugieren que la seguna dieta tuvo mayor perdida de peso en comparacion con la primera\n",
    "\n",
    "2.- nivel de significancia 5%\n",
    "3.- verificar la hipotesis"
   ]
  },
  {
   "cell_type": "code",
   "execution_count": 4,
   "id": "8e0f3cf0",
   "metadata": {},
   "outputs": [
    {
     "name": "stdout",
     "output_type": "stream",
     "text": [
      "t-statistic: -3.5383407969933938\n",
      "p-value: 0.004083270191713912\n",
      "Rechazamos la hipótesis nula: hay una diferencia significativa entre las dietas.\n"
     ]
    }
   ],
   "source": [
    "import numpy as np\n",
    "import pandas as pd\n",
    "from scipy.stats import ttest_ind\n",
    "\n",
    "# TODO\n",
    "data={\"Dieta 1\":[2.0,2.5,3.0,2.8,2.3,2.7,2.5], \"Dieta 2\":[3.0,3.2,3.1,2.9,2.8,3.0,3.2]}\n",
    "df=pd.DataFrame(data)\n",
    "df.head()\n",
    "\n",
    "# Realizar el t-test\n",
    "t_stat, p_value = ttest_ind(df[\"Dieta 1\"], df[\"Dieta 2\"])\n",
    "\n",
    "# Imprimiendo el Resultado\n",
    "print(\"t-statistic:\", t_stat)\n",
    "print(\"p-value:\", p_value)\n",
    "\n",
    "# Análisis\n",
    "alpha = 0.05  # Nivel de significancia\n",
    "if p_value <= alpha:\n",
    "    print(\"Rechazamos la hipótesis nula: hay una diferencia significativa entre las dietas.\")\n",
    "else:\n",
    "    print(\"No se puede rechazar la hipótesis nula: no hay suficiente evidencia de diferencia entre las dietas.\")\n"
   ]
  },
  {
   "cell_type": "markdown",
   "id": "0b0032e9",
   "metadata": {},
   "source": [
    "CONCLUSION\n",
    "\n",
    "-Dado que obtuvimos una p_value menor al nivel de significancia se debe rechazar la hipotesis nula, esto indica que los valores de Dieta 1 y la dieta 2 si tienen una diferencia relevante entre ellos.\n",
    "-tomando en cuenta el T-test, nos dice que la diferencia entre las medias de cada dieta es significativa\n",
    "-Existe evidencia que apoya a la hipotesis alternativa"
   ]
  },
  {
   "cell_type": "markdown",
   "id": "f432e18e",
   "metadata": {},
   "source": [
    "## ANOVA\n",
    "\n",
    "**ANOVA** (*Analysis of Variance - Análisis de variación*) Es una técnica estadística utilizada para comparar las medidas de dos o más grupos. La idea detrás de ANOVA es descomponer la variabilidad total de los datos en dos componentes: variabilidad entre grupos y variabilidad dentro de los grupos:\n",
    "\n",
    "- **Variabilidad entre grupos**: Esta variabilidad se refiere a las diferencias entre las medias del grupo. Si esta variabilidad es considerablemente mayor que la variabilidad dentro del grupo, podría ser una indicación de que al menos una de las medias del grupo es diferente.\n",
    "- **Variabilidad dentro del grupo**: Esta variabilidad se refiere a la dispersión de los datos dentro de cada grupo. Si todos los grupos tienen una variabilidad similar, entonces cualquier diferencia notable en las medias de los grupos podría considerarse significativa.\n",
    "\n",
    "Las hipótesis en ANOVA suelen incluir:\n",
    "\n",
    "- **Hipótesis nula** ($H₀$): Las medias de todos los grupos son iguales.\n",
    "- **Hipótesis alternativa** ($H₁$): Al menos una de las medias del grupo es diferente.\n",
    "\n",
    "Si el resultado de la prueba ANOVA es significativo (por ejemplo, un valor p inferior a un umbral como 0,05), esto sugiere que al menos la media de un grupo es diferente."
   ]
  },
  {
   "cell_type": "markdown",
   "id": "fc5f3721",
   "metadata": {},
   "source": [
    "## Ejercicio 2\n",
    "\n",
    "Un agricultor decide probar tres tipos diferentes de fertilizantes para determinar si alguno es superior en términos de producción de maíz. El agricultor planta maíz en 15 parcelas idénticas y utiliza los tres fertilizantes (5 parcelas para cada tipo). Al final de la temporada mide el rendimiento de maíz (en kg) de cada parcela, con el siguiente resultado:\n",
    "\n",
    "| Fertilizante 1 | Fertilizante 2 | Fertilizante 3 |\n",
    "|:-------------|:-------------|:-------------|\n",
    "| 20 | 22 | 24 |\n",
    "| 21 | 21 | 23 |\n",
    "| 20 | 23 | 22 |\n",
    "| 19 | 22 | 23 |\n",
    "| 20 | 21 | 24 |\n",
    "\n",
    "Con estos datos busca responder la siguiente pregunta: ¿Existe una diferencia significativa en el rendimiento promedio del maíz entre los tres tipos de fertilizantes?\n",
    "\n",
    "Para ayudarte, sigue los siguientes puntos:\n",
    "\n",
    "-Enunciar la hipótesis: hipótesis nula y alternativa.\n",
    "-Realizar la prueba ANOVA.\n",
    "-Analizar las conclusiones.\n",
    "-Si un fertilizante es mejor que otro, ¿cómo podemos saberlo?"
   ]
  },
  {
   "cell_type": "markdown",
   "id": "12a77575",
   "metadata": {},
   "source": [
    "HIPOTESIS NULA:\n",
    "El valor de la media de los grupos de fertilizantes son iguales \n",
    "\n",
    "HIPOTESIS ALTERNATIVA\n",
    "Al menos uno de los valores de la media del grupo es diferente "
   ]
  },
  {
   "cell_type": "code",
   "execution_count": 42,
   "id": "eecad0ca",
   "metadata": {},
   "outputs": [
    {
     "name": "stdout",
     "output_type": "stream",
     "text": [
      "f-value: 20.315789473684188\n",
      "p-value: 0.00014047824793190475\n"
     ]
    }
   ],
   "source": [
    "# TODO\n",
    "import scipy.stats as stats\n",
    "\n",
    "fertilizante_1=[20,21,20,19,20]\n",
    "fertilizante_2=[22,21,23,22,21]\n",
    "fertilizante_3=[24,23,22,23,24]\n",
    "\n",
    "f_value, p_value = stats.f_oneway(fertilizante_1, fertilizante_2, fertilizante_3)\n",
    "\n",
    "print(f\"f-value: {f_value}\")\n",
    "print(f\"p-value: {p_value}\")\n",
    "\n",
    "\n"
   ]
  },
  {
   "cell_type": "markdown",
   "id": "c9dc169c",
   "metadata": {},
   "source": [
    "Ya que el valor de F-value es un numero alto, entonces se concluye que existe diferencia entre las medias, osea que hay variabilidad.\n",
    "\n",
    "El p-value es menor que el porcentaje de significancia por lo tanto rechazamos la hipotesis nula, y aceptamos la hipotesis alternativa"
   ]
  },
  {
   "cell_type": "code",
   "execution_count": 43,
   "id": "15b1a0f3",
   "metadata": {},
   "outputs": [
    {
     "name": "stdout",
     "output_type": "stream",
     "text": [
      "Multiple Comparison of Means - Tukey HSD, FWER=0.05\n",
      "==================================================\n",
      "group1 group2 meandiff p-adj  lower  upper  reject\n",
      "--------------------------------------------------\n",
      "    F1     F2      1.8 0.0099 0.4572 3.1428   True\n",
      "    F1     F3      3.2 0.0001 1.8572 4.5428   True\n",
      "    F2     F3      1.4 0.0409 0.0572 2.7428   True\n",
      "--------------------------------------------------\n"
     ]
    }
   ],
   "source": [
    "import numpy as np\n",
    "from statsmodels.stats.multicomp import pairwise_tukeyhsd\n",
    "\n",
    "data = np.concatenate([fertilizante_1, fertilizante_2, fertilizante_3])\n",
    "labels = [\"F1\"] * 5 + [\"F2\"] * 5 + [\"F3\"] * 5\n",
    "\n",
    "# Tukey test\n",
    "result = pairwise_tukeyhsd(data, labels, alpha = 0.05)\n",
    "print(result)"
   ]
  },
  {
   "cell_type": "markdown",
   "id": "2593bb0c",
   "metadata": {},
   "source": [
    "En esta tabla podemos observar que todos los fertilizantes tienen diferencias en la media entre sí.\n",
    "El fertilizante 3 tiene los valores más altos, ya que es mayor que 2 y el 2 mayor que 1, lo que nos dice que es el más efectivo."
   ]
  },
  {
   "cell_type": "markdown",
   "id": "d5a29e25",
   "metadata": {},
   "source": []
  }
 ],
 "metadata": {
  "kernelspec": {
   "display_name": "Python 3",
   "language": "python",
   "name": "python3"
  },
  "language_info": {
   "codemirror_mode": {
    "name": "ipython",
    "version": 3
   },
   "file_extension": ".py",
   "mimetype": "text/x-python",
   "name": "python",
   "nbconvert_exporter": "python",
   "pygments_lexer": "ipython3",
   "version": "3.11.4"
  }
 },
 "nbformat": 4,
 "nbformat_minor": 5
}
